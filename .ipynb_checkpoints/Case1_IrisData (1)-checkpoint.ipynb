{
 "cells": [
  {
   "cell_type": "markdown",
   "metadata": {},
   "source": [
    "# Classifying iris plants according to their measurements\n",
    "\n",
    "We use sklearn to classify the iris data we saw in Weeks 1 and 6.\n",
    "\n",
    "The data is included in scikit-learn, so we can get it directly, as we did in Week 6."
   ]
  },
  {
   "cell_type": "code",
   "execution_count": 17,
   "metadata": {},
   "outputs": [
    {
     "name": "stdout",
     "output_type": "stream",
     "text": [
      "['sepal length (cm)', 'sepal width (cm)', 'petal length (cm)', 'petal width (cm)']\n",
      "['setosa' 'versicolor' 'virginica']\n"
     ]
    }
   ],
   "source": [
    "from sklearn import neighbors, datasets\n",
    "import pandas as pd\n",
    "\n",
    "iris = datasets.load_iris()\n",
    "longPredNames = iris.feature_names\n",
    "\n",
    "print(longPredNames)\n",
    "print(iris.target_names)\n",
    "\n",
    "#X, y = iris.data, iris.target"
   ]
  },
  {
   "cell_type": "markdown",
   "metadata": {},
   "source": [
    "Now that the dataset is in memory, we load it into a pandas dataframe for convenience and look at the first (5) rows in the dataframe."
   ]
  },
  {
   "cell_type": "code",
   "execution_count": 18,
   "metadata": {},
   "outputs": [],
   "source": [
    "def prepareIrisData(iris):\n",
    "  longPredNames = iris.feature_names\n",
    "  predNames = [w.replace(' (cm)', '').replace(' l','L').replace(' w','W') for w in longPredNames]\n",
    "  data = pd.DataFrame({\n",
    "    predNames[0]:iris.data[:,0],\n",
    "    predNames[1]:iris.data[:,1],\n",
    "    predNames[2]:iris.data[:,2],\n",
    "    predNames[3]:iris.data[:,3],\n",
    "    'species':iris.target\n",
    "  })\n",
    "  X=data[predNames]  # Features\n",
    "  y=data['species']  # Labels\n",
    "  return predNames, X, y\n",
    "\n",
    "predNames, X, y = prepareIrisData(iris)"
   ]
  },
  {
   "cell_type": "markdown",
   "metadata": {},
   "source": [
    "As usual we need to split the data into training and test examples. For the training data, we use the measured lengths and the species labels assigned in the data. For the test data, we use the measured lengths but ignore the assigned labels (because we wish to predict them), but this also means that we can compare the predicted values against the assigned labels (where the latter are assumed to be correct).\n",
    "\n",
    "For the split, we partition the set so that 70% is used for training and 30% for testing the predictor arising from the training. Also note that we set the `random_state` variable to an integer constant (for the random number generator), so that the same split is derived each time it is run."
   ]
  },
  {
   "cell_type": "code",
   "execution_count": 19,
   "metadata": {},
   "outputs": [],
   "source": [
    "# Import train_test_split function\n",
    "from sklearn.model_selection import train_test_split\n",
    "\n",
    "# Split dataset into training and test sets\n",
    "def splitData(X, y):\n",
    "  testSize=0.3\n",
    "  randomState=5\n",
    "  X_train, X_test, y_train, y_test = train_test_split(X, y, test_size=testSize, stratify=y, random_state=randomState)\n",
    "  return X_train, X_test, y_train, y_test\n",
    "\n",
    "X_train, X_test, y_train, y_test = splitData(X, y)"
   ]
  },
  {
   "cell_type": "markdown",
   "metadata": {},
   "source": [
    "## RandomForest Classifier - bagging"
   ]
  },
  {
   "cell_type": "markdown",
   "metadata": {},
   "source": [
    "Create a RandomForestClassifier object and then apply it to the training data, so the classifier now has the ability to predict based on what it learnt from the training set. The predicted labels for each of the test examples are stored in y_pred. We use `n_estimators` = 100 (generally, more estimators is better, but runtimes increase and eventually there are diminishing returns). There are [many other parameters](https://scikit-learn.org/stable/modules/generated/sklearn.ensemble.RandomForestClassifier.html) but we do not set them here so they take default values. Perhaps the most interesting is `max_depth` which defaults to `None`, so the decision trees grow to the point where all leaves are _pure_, so such decision trees are probably unstable, as require."
   ]
  },
  {
   "cell_type": "code",
   "execution_count": 20,
   "metadata": {},
   "outputs": [],
   "source": [
    "# Import Random Forest Model\n",
    "from sklearn.ensemble import RandomForestClassifier\n",
    "\n",
    "# Create a RandomForest Classifier, with 100 estimators (decision trees applied to bootstrap samples of the training set)\n",
    "clf = RandomForestClassifier(n_estimators=100)\n",
    "\n",
    "# Train the model using the training X,Y\n",
    "clf.fit(X_train,y_train)\n",
    "\n",
    "# Now use the trained classifier to predict Y (labels) for the test features\n",
    "y_pred=clf.predict(X_test)"
   ]
  },
  {
   "cell_type": "markdown",
   "metadata": {},
   "source": [
    "Now that we have the assigned _and_ predicted labels for the test set, we can compare them against each other to determine the accuracy of the predictor."
   ]
  },
  {
   "cell_type": "code",
   "execution_count": 21,
   "metadata": {},
   "outputs": [
    {
     "name": "stdout",
     "output_type": "stream",
     "text": [
      "Accuracy: 0.9333333333333333\n",
      "Confusion Matrix:\n",
      "[[15  0  0]\n",
      " [ 0 13  2]\n",
      " [ 0  1 14]]\n",
      "Classification Report:\n",
      "              precision    recall  f1-score   support\n",
      "\n",
      "           0      1.000     1.000     1.000        15\n",
      "           1      0.929     0.867     0.897        15\n",
      "           2      0.875     0.933     0.903        15\n",
      "\n",
      "   micro avg      0.933     0.933     0.933        45\n",
      "   macro avg      0.935     0.933     0.933        45\n",
      "weighted avg      0.935     0.933     0.933        45\n",
      "\n"
     ]
    }
   ],
   "source": [
    "# Import scikit-learn metrics module for accuracy calculation\n",
    "from sklearn.metrics import confusion_matrix, accuracy_score, classification_report\n",
    "\n",
    "def showDiagnostics(y, y_pred):\n",
    "  # Model Accuracy, how often is the classifier correct?\n",
    "  print(\"Accuracy:\",accuracy_score(y, y_pred))\n",
    "  print(\"Confusion Matrix:\")\n",
    "  print(confusion_matrix(y, y_pred))\n",
    "  print(\"Classification Report:\")\n",
    "  print(classification_report(y, y_pred, digits=3))\n",
    "\n",
    "showDiagnostics(y_test, y_pred)"
   ]
  },
  {
   "cell_type": "markdown",
   "metadata": {},
   "source": [
    "In machine learning, probably the most important performance measure is how well the predictor performs on the test set. For the random forest clasifier with the given training data and configuration parameter, 93% of predicted classes match the (known) classes in the test set.\n",
    "\n",
    "When the test set is a random sample of the population (of iris plants in this instance), prediction accuracy can be a reliable predictor of total error (`bias^2 + Variance + irreducible error`), and the aim with our predictor is to maximise this quantity.\n",
    "\n",
    "As a follow up, it is advisable to review the technical attributes that can be derived from the classifier. We create a pandas series (essentially a list with an associated index of labels where each label describes the associated value in its list), sorting it in decreasing order by feature importance. This allows us to check which predictors are most important."
   ]
  },
  {
   "cell_type": "code",
   "execution_count": 22,
   "metadata": {},
   "outputs": [
    {
     "data": {
      "image/png": "[encoded data removed]",
      "text/plain": [
       "<matplotlib.figure.Figure at 0x1a22c58358>"
      ]
     },
     "metadata": {},
     "output_type": "display_data"
    }
   ],
   "source": [
    "import matplotlib.pyplot as plt\n",
    "import seaborn as sns\n",
    "%matplotlib inline\n",
    "\n",
    "def plotFeaturesByImportance(clf, predNames):\n",
    "  feature_imp = pd.Series(clf.feature_importances_,index=predNames).sort_values(ascending=False)\n",
    "  feature_imp\n",
    "  # Creating a bar plot\n",
    "  sns.barplot(x=feature_imp, y=feature_imp.index)\n",
    "  # Add labels to your graph\n",
    "  plt.xlabel('Feature Importance Score')\n",
    "  plt.ylabel('Features')\n",
    "  plt.title(\"Visualizing Features by Importance\")\n",
    "  plt.show()\n",
    "\n",
    "plotFeaturesByImportance(clf, predNames)"
   ]
  },
  {
   "cell_type": "markdown",
   "metadata": {},
   "source": [
    "As you can see, petal length is the most valuable predictor of iris species, and sepal width is the least. The barplot to make this ranking of predictors more obvious.\n",
    "\n",
    "Because sepal width offers so little as a predictor, we remove it from the list of predictors and create a new train-test split, using the same (relative) `test_size` and `random_state`, so the same training and test _instances_ are used as before."
   ]
  },
  {
   "cell_type": "code",
   "execution_count": 23,
   "metadata": {},
   "outputs": [],
   "source": [
    "def removePredictor(X, predNames, col):\n",
    "  # Remove predictor from X and from the predNames list\n",
    "  X = X.drop(col, axis=1, errors='ignore')\n",
    "  try:\n",
    "    predNames.remove(col)\n",
    "  except ValueError:\n",
    "    pass\n",
    "  return X, predNames\n",
    "\n",
    "# Remove sepalWidth predictor from X and from the predNames list\n",
    "X, predNames = removePredictor(X, predNames, 'sepalWidth')\n",
    "\n",
    "# Split dataset into training set and test set\n",
    "X_train, X_test, y_train, y_test = splitData(X, y)"
   ]
  },
  {
   "cell_type": "markdown",
   "metadata": {},
   "source": [
    "We now rerun the classifier with the restricted set of 3 predictors and compute its prediction accuracy."
   ]
  },
  {
   "cell_type": "code",
   "execution_count": 24,
   "metadata": {},
   "outputs": [
    {
     "name": "stdout",
     "output_type": "stream",
     "text": [
      "Accuracy: 0.9333333333333333\n",
      "Confusion Matrix:\n",
      "[[15  0  0]\n",
      " [ 0 13  2]\n",
      " [ 0  1 14]]\n",
      "Classification Report:\n",
      "              precision    recall  f1-score   support\n",
      "\n",
      "           0      1.000     1.000     1.000        15\n",
      "           1      0.929     0.867     0.897        15\n",
      "           2      0.875     0.933     0.903        15\n",
      "\n",
      "   micro avg      0.933     0.933     0.933        45\n",
      "   macro avg      0.935     0.933     0.933        45\n",
      "weighted avg      0.935     0.933     0.933        45\n",
      "\n"
     ]
    },
    {
     "data": {
      "image/png": "[encoded data removed]",
      "text/plain": [
       "<matplotlib.figure.Figure at 0x1a23058d30>"
      ]
     },
     "metadata": {},
     "output_type": "display_data"
    }
   ],
   "source": [
    "# Create a RandomForest Classifier\n",
    "clf=RandomForestClassifier(n_estimators=100)\n",
    "\n",
    "# Train the model using the training sets y_pred=clf.predict(X_test)\n",
    "clf.fit(X_train,y_train)\n",
    "\n",
    "# prediction on test set\n",
    "y_pred=clf.predict(X_test)\n",
    "\n",
    "showDiagnostics(y_test, y_pred)\n",
    "plotFeaturesByImportance(clf, predNames)"
   ]
  },
  {
   "cell_type": "markdown",
   "metadata": {},
   "source": [
    "Note that the prediction accuracy has not changed from 0.93 as a result of removing the `sepalWidth` predictor. The reason is that the bigger (4-predictor) models more of the \"noise\" in the training data, by associating it with the `sepalWidth` parameter. This increased the _bias_ in the model, which was matched by reducing the _variance_, so the total error and the associated prediction accuracy is the same.\n",
    "\n",
    "So, would removing the next \"weakest\" predictor (i.e., `sepalLength`) also help? We answer this question by removing it and rerunning the `RandomTreeClassifier` as before, and review its prediction accuracy."
   ]
  },
  {
   "cell_type": "code",
   "execution_count": 25,
   "metadata": {},
   "outputs": [
    {
     "name": "stdout",
     "output_type": "stream",
     "text": [
      "Accuracy: 0.9333333333333333\n",
      "Confusion Matrix:\n",
      "[[15  0  0]\n",
      " [ 0 13  2]\n",
      " [ 0  1 14]]\n",
      "Classification Report:\n",
      "              precision    recall  f1-score   support\n",
      "\n",
      "           0      1.000     1.000     1.000        15\n",
      "           1      0.929     0.867     0.897        15\n",
      "           2      0.875     0.933     0.903        15\n",
      "\n",
      "   micro avg      0.933     0.933     0.933        45\n",
      "   macro avg      0.935     0.933     0.933        45\n",
      "weighted avg      0.935     0.933     0.933        45\n",
      "\n"
     ]
    },
    {
     "data": {
      "image/png": "[encoded data removed]",
      "text/plain": [
       "<matplotlib.figure.Figure at 0x1a230445f8>"
      ]
     },
     "metadata": {},
     "output_type": "display_data"
    }
   ],
   "source": [
    "# Remove sepalLength predictor from X and from the predNames list\n",
    "X, predNames = removePredictor(X, predNames, 'sepalLength')\n",
    "\n",
    "# Split dataset into training set and test set\n",
    "X_train, X_test, y_train, y_test = splitData(X, y)\n",
    "\n",
    "# Create a RandomForest Classifier\n",
    "clf=RandomForestClassifier(n_estimators=100)\n",
    "\n",
    "# Train the model using the training sets y_pred=clf.predict(X_test)\n",
    "clf.fit(X_train,y_train)\n",
    "\n",
    "# prediction on test set\n",
    "y_pred=clf.predict(X_test)\n",
    "\n",
    "showDiagnostics(y_test, y_pred)\n",
    "plotFeaturesByImportance(clf, predNames)"
   ]
  },
  {
   "cell_type": "markdown",
   "metadata": {},
   "source": [
    "As you can see, the prediction accuracy (0.93) is the same as that of the 3-predictor model (0.93), so it looks like the best RandomForest model for the iris data has either 2 or 3 predictors and that 4 predictors overfits the iris data.\n",
    "\n",
    "Remember that the RandomForest model applies bagging to decision trees, so it worth looking at what a single decision tree can achieve. "
   ]
  },
  {
   "cell_type": "code",
   "execution_count": 26,
   "metadata": {},
   "outputs": [
    {
     "name": "stdout",
     "output_type": "stream",
     "text": [
      "Accuracy: 0.9555555555555556\n",
      "Confusion Matrix:\n",
      "[[15  0  0]\n",
      " [ 0 13  2]\n",
      " [ 0  0 15]]\n",
      "Classification Report:\n",
      "              precision    recall  f1-score   support\n",
      "\n",
      "           0      1.000     1.000     1.000        15\n",
      "           1      1.000     0.867     0.929        15\n",
      "           2      0.882     1.000     0.938        15\n",
      "\n",
      "   micro avg      0.956     0.956     0.956        45\n",
      "   macro avg      0.961     0.956     0.955        45\n",
      "weighted avg      0.961     0.956     0.955        45\n",
      "\n"
     ]
    },
    {
     "data": {
      "image/png": "[encoded data removed]",
      "text/plain": [
       "<matplotlib.figure.Figure at 0x1a2307b710>"
      ]
     },
     "metadata": {},
     "output_type": "display_data"
    }
   ],
   "source": [
    "from sklearn.tree import DecisionTreeClassifier\n",
    "\n",
    "criterion = 'gini'\n",
    "treeDepth = None\n",
    "randomState = 5\n",
    "treeClf = DecisionTreeClassifier(criterion=criterion, max_depth=treeDepth, random_state=0)\n",
    "\n",
    "# Note that we use the same restricted set of 2 predictors\n",
    "treeClf.fit(X_train, y_train)\n",
    "\n",
    "# prediction on test set\n",
    "y_pred = treeClf.predict(X_test)\n",
    "\n",
    "showDiagnostics(y_test, y_pred)\n",
    "plotFeaturesByImportance(treeClf, predNames)"
   ]
  },
  {
   "cell_type": "markdown",
   "metadata": {},
   "source": [
    "Interestingly, a single, full depth decision tree has better prediction performance than an ensemble classifier of 100 such decision trees. This is because there is probably too little data (training or test) in the iris dataset to really get the advantage of a compute-intensive model such as a `RandomForest` classifier."
   ]
  },
  {
   "cell_type": "markdown",
   "metadata": {},
   "source": [
    "## AdaBoost Classifier - boosting"
   ]
  },
  {
   "cell_type": "markdown",
   "metadata": {},
   "source": [
    "First we return to the base iris data (before predictors were removed). We also need to split the data into traning and test sets.\n"
   ]
  },
  {
   "cell_type": "code",
   "execution_count": 27,
   "metadata": {},
   "outputs": [
    {
     "data": {
      "text/html": [
       "<div>\n",
       "<style scoped>\n",
       "    .dataframe tbody tr th:only-of-type {\n",
       "        vertical-align: middle;\n",
       "    }\n",
       "\n",
       "    .dataframe tbody tr th {\n",
       "        vertical-align: top;\n",
       "    }\n",
       "\n",
       "    .dataframe thead th {\n",
       "        text-align: right;\n",
       "    }\n",
       "</style>\n",
       "<table border=\"1\" class=\"dataframe\">\n",
       "  <thead>\n",
       "    <tr style=\"text-align: right;\">\n",
       "      <th></th>\n",
       "      <th>sepalLength</th>\n",
       "      <th>sepalWidth</th>\n",
       "      <th>petalLength</th>\n",
       "      <th>petalWidth</th>\n",
       "    </tr>\n",
       "  </thead>\n",
       "  <tbody>\n",
       "    <tr>\n",
       "      <th>68</th>\n",
       "      <td>6.2</td>\n",
       "      <td>2.2</td>\n",
       "      <td>4.5</td>\n",
       "      <td>1.5</td>\n",
       "    </tr>\n",
       "    <tr>\n",
       "      <th>28</th>\n",
       "      <td>5.2</td>\n",
       "      <td>3.4</td>\n",
       "      <td>1.4</td>\n",
       "      <td>0.2</td>\n",
       "    </tr>\n",
       "    <tr>\n",
       "      <th>98</th>\n",
       "      <td>5.1</td>\n",
       "      <td>2.5</td>\n",
       "      <td>3.0</td>\n",
       "      <td>1.1</td>\n",
       "    </tr>\n",
       "    <tr>\n",
       "      <th>24</th>\n",
       "      <td>4.8</td>\n",
       "      <td>3.4</td>\n",
       "      <td>1.9</td>\n",
       "      <td>0.2</td>\n",
       "    </tr>\n",
       "    <tr>\n",
       "      <th>103</th>\n",
       "      <td>6.3</td>\n",
       "      <td>2.9</td>\n",
       "      <td>5.6</td>\n",
       "      <td>1.8</td>\n",
       "    </tr>\n",
       "  </tbody>\n",
       "</table>\n",
       "</div>"
      ],
      "text/plain": [
       "     sepalLength  sepalWidth  petalLength  petalWidth\n",
       "68           6.2         2.2          4.5         1.5\n",
       "28           5.2         3.4          1.4         0.2\n",
       "98           5.1         2.5          3.0         1.1\n",
       "24           4.8         3.4          1.9         0.2\n",
       "103          6.3         2.9          5.6         1.8"
      ]
     },
     "execution_count": 27,
     "metadata": {},
     "output_type": "execute_result"
    }
   ],
   "source": [
    "predNames, X, y = prepareIrisData(iris)\n",
    "\n",
    "X_train, X_test, y_train, y_test = splitData(X, y)\n",
    "X_train.head()"
   ]
  },
  {
   "cell_type": "markdown",
   "metadata": {},
   "source": [
    "As with any scikit-learn classifier, we create a basic classifier object, specifying that the number of estimators should be 100 (as it was for the `RandomForest` classifier above that used bagging). Note that this means that there will typically be 100 iterations when new classifiers are added to the model. We also choose a `learning_rate` of 0.5 which means that updates to the parameters are shrunk by 0.5 at each step. Although not specified, the `base_classifier` is a one-split decision tree. such a heavily restricted decision tree is of course a weak classifier - note that it contrasts with the full depth trees used in the `RandomForest` classifier above)."
   ]
  },
  {
   "cell_type": "code",
   "execution_count": 28,
   "metadata": {},
   "outputs": [],
   "source": [
    "# Load libraries\n",
    "from sklearn.ensemble import AdaBoostClassifier\n",
    "\n",
    "# Create adaboost classifer object\n",
    "abc_dt = AdaBoostClassifier(n_estimators=100,\n",
    "                         learning_rate=0.5)\n",
    "# Train Adaboost Classifer\n",
    "model = abc_dt.fit(X_train, y_train)\n",
    "\n",
    "#Predict the response for test dataset\n",
    "y_pred = model.predict(X_test)"
   ]
  },
  {
   "cell_type": "markdown",
   "metadata": {},
   "source": [
    "Now that we have both assigned and predicted classes for the test data, we can review the classifier's accuracy as we did for decision trees and RandomForest above."
   ]
  },
  {
   "cell_type": "code",
   "execution_count": 29,
   "metadata": {},
   "outputs": [
    {
     "name": "stdout",
     "output_type": "stream",
     "text": [
      "Accuracy: 0.9111111111111111\n",
      "Confusion Matrix:\n",
      "[[15  0  0]\n",
      " [ 0 13  2]\n",
      " [ 0  2 13]]\n",
      "Classification Report:\n",
      "              precision    recall  f1-score   support\n",
      "\n",
      "           0      1.000     1.000     1.000        15\n",
      "           1      0.867     0.867     0.867        15\n",
      "           2      0.867     0.867     0.867        15\n",
      "\n",
      "   micro avg      0.911     0.911     0.911        45\n",
      "   macro avg      0.911     0.911     0.911        45\n",
      "weighted avg      0.911     0.911     0.911        45\n",
      "\n"
     ]
    },
    {
     "data": {
      "image/png": "[encoded data removed]",
      "text/plain": [
       "<matplotlib.figure.Figure at 0x1a23129978>"
      ]
     },
     "metadata": {},
     "output_type": "display_data"
    }
   ],
   "source": [
    "showDiagnostics(y_test, y_pred)\n",
    "plotFeaturesByImportance(model, predNames)"
   ]
  },
  {
   "cell_type": "markdown",
   "metadata": {},
   "source": [
    "Interestingly, the plot above indicates that the use of depth=1 decision trees means that the `sepalWidth` and `sepalLength` predictors are not used in the model, because they never appear as the first split in any decision tree.\n",
    "\n",
    "The AdaBoost classifier is not restricted to decision tree \"stumps\" as it can also use either logistic regressors with very few terms, or SVM classifiers. We rerun the analysis, but this time using SVCs."
   ]
  },
  {
   "cell_type": "code",
   "execution_count": 30,
   "metadata": {},
   "outputs": [],
   "source": [
    "# Import Support Vector Classifier\n",
    "from sklearn.svm import SVC\n",
    "svc=SVC(probability=True, kernel='linear')"
   ]
  },
  {
   "cell_type": "markdown",
   "metadata": {},
   "source": [
    "Behind the scenes, `SVC` uses _one-hot encoding_ to convert the multiclass classification problem to a series of binary classifications. We use a linear kernel. Therefore the input space is not transformed, so the classification boundaries, from which the margins are calculated, are linear, as in \"vanilla\" SVM.\n",
    "\n",
    "We can now use AdaBoost again, this time with the SVM `base_estimator`. Unfortunately, we are unable to compute feature importances since the base_estimator does not have a `feature_importances_` attribute"
   ]
  },
  {
   "cell_type": "code",
   "execution_count": 31,
   "metadata": {},
   "outputs": [
    {
     "name": "stdout",
     "output_type": "stream",
     "text": [
      "Accuracy: 0.9333333333333333\n",
      "Confusion Matrix:\n",
      "[[15  0  0]\n",
      " [ 0 13  2]\n",
      " [ 0  1 14]]\n",
      "Classification Report:\n",
      "              precision    recall  f1-score   support\n",
      "\n",
      "           0      1.000     1.000     1.000        15\n",
      "           1      0.929     0.867     0.897        15\n",
      "           2      0.875     0.933     0.903        15\n",
      "\n",
      "   micro avg      0.933     0.933     0.933        45\n",
      "   macro avg      0.935     0.933     0.933        45\n",
      "weighted avg      0.935     0.933     0.933        45\n",
      "\n"
     ]
    }
   ],
   "source": [
    "# Create adaboost classifer object\n",
    "abc =AdaBoostClassifier(base_estimator=svc, n_estimators=100, learning_rate=0.5)\n",
    "\n",
    "# Train Adaboost Classifer\n",
    "model = abc.fit(X_train, y_train)\n",
    "\n",
    "#Predict the response for test dataset\n",
    "y_pred = model.predict(X_test)\n",
    "\n",
    "showDiagnostics(y_test, y_pred)\n",
    "#plotFeaturesByImportance(model, predNames)"
   ]
  },
  {
   "cell_type": "markdown",
   "metadata": {},
   "source": [
    "As can be seen, the prediction accuracy has improved from 0.91 to 0.93, probbably due to the use of a more flexible base classifier."
   ]
  }
 ],
 "metadata": {
  "kernelspec": {
   "display_name": "Python 3",
   "language": "python",
   "name": "python3"
  },
  "language_info": {
   "codemirror_mode": {
    "name": "ipython",
    "version": 3
   },
   "file_extension": ".py",
   "mimetype": "text/x-python",
   "name": "python",
   "nbconvert_exporter": "python",
   "pygments_lexer": "ipython3",
   "version": "3.7.2"
  }
 },
 "nbformat": 4,
 "nbformat_minor": 5
}
